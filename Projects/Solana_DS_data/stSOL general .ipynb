{
 "cells": [
  {
   "cell_type": "code",
   "execution_count": 1,
   "id": "bd4385ad",
   "metadata": {},
   "outputs": [],
   "source": [
    "import pandas as pd \n",
    "import time\n",
    "import requests\n",
    "import datetime\n"
   ]
  },
  {
   "cell_type": "code",
   "execution_count": 4,
   "id": "7536deeb",
   "metadata": {},
   "outputs": [],
   "source": [
    "file=pd.read_csv(r'Google DS\\General_raw_data\\CrX7kMhLC3cSsXJdT7JDgqrRVWGnUpX3gfEfxxU2NVLi_2022-01-18.csv')"
   ]
  },
  {
   "cell_type": "code",
   "execution_count": 5,
   "id": "a427b953",
   "metadata": {},
   "outputs": [],
   "source": [
    "stsol=file[file['token']=='7dHbWXmci3dT8UFYWYZweBLXgycu7Y3iL6trKn1Y7ARj']\n",
    "stsol['blocktime'] = pd.to_datetime(stsol['blocktime'],unit='s')\n",
    "stsol['blocktime'] = stsol['blocktime'].dt.floor('d')\n",
    "stsol_grouped=stsol.groupby('blocktime')['change'].sum().reset_index()\n",
    "stsol_grouped['cum_sum']=stsol_grouped['change'].cumsum()"
   ]
  },
  {
   "cell_type": "code",
   "execution_count": 11,
   "id": "e3741997",
   "metadata": {},
   "outputs": [],
   "source": [
    "stsol_grouped['incentives']=0\n",
    "stsol_grouped.loc[stsol_grouped['blocktime']>'2021-12-15','incentives']=5666.66\n",
    "token1_prices=pd.read_csv(r'Prices\\stSOL_prices.csv')\n",
    "token1_prices['blocktime']=pd.to_datetime(token1_prices['blocktime'],infer_datetime_format=True)\n",
    "new_names={'blocktime':'blocktime',\"Price\":\"stSOL_price\"}\n",
    "token1_prices.rename(columns=new_names, inplace=True)\n"
   ]
  },
  {
   "cell_type": "code",
   "execution_count": 93,
   "id": "86f31e0d",
   "metadata": {
    "scrolled": true
   },
   "outputs": [
    {
     "name": "stdout",
     "output_type": "stream",
     "text": [
      "    blocktime     Price\n",
      "0  2021-10-12  3.805051\n",
      "1  2021-10-13  3.536080\n",
      "2  2021-10-14  3.725558\n",
      "3  2021-10-15  4.139435\n",
      "4  2021-10-16  4.033364\n",
      "5  2021-10-17  3.737817\n",
      "6  2021-10-18  3.558273\n",
      "7  2021-10-19  3.295390\n",
      "8  2021-10-20  3.413604\n",
      "9  2021-10-21  3.806661\n"
     ]
    }
   ],
   "source": [
    "token2_prices=pd.read_csv(r'Prices\\LDO_prices.csv')\n",
    "token2_prices['blocktime']=pd.to_datetime(token2_prices['blocktime'],infer_datetime_format=True)\n",
    "new_names={'blocktime':'blocktime',\"Price\":\"incentive_price\"}\n",
    "token2_prices.rename(columns=new_names, inplace=True)\n",
    "token2_prices=token2_prices.sort_values(by='blocktime',ascending=True,ignore_index=True)\n"
   ]
  },
  {
   "cell_type": "code",
   "execution_count": 95,
   "id": "bdc14fa4",
   "metadata": {},
   "outputs": [],
   "source": [
    "prices=pd.merge(token1_prices,token2_prices,on='blocktime',how='inner')\n",
    "final_table=stsol_grouped.merge(prices,on='blocktime',how='left')\n",
    "final_table['stSOL_usd']=final_table['change']*final_table['stSOL_price']\n",
    "final_table['incentives_usd']=final_table['incentives']*final_table['incentive_price']\n",
    "final_table.to_csv(r'Dashboard_data\\Google DS\\General\\stSOL_info.csv',sep=',',mode='a',header=False, encoding='utf-8',index=False)"
   ]
  },
  {
   "cell_type": "code",
   "execution_count": null,
   "id": "33dfc39d",
   "metadata": {},
   "outputs": [],
   "source": []
  }
 ],
 "metadata": {
  "kernelspec": {
   "display_name": "Python 3 (ipykernel)",
   "language": "python",
   "name": "python3"
  },
  "language_info": {
   "codemirror_mode": {
    "name": "ipython",
    "version": 3
   },
   "file_extension": ".py",
   "mimetype": "text/x-python",
   "name": "python",
   "nbconvert_exporter": "python",
   "pygments_lexer": "ipython3",
   "version": "3.9.2"
  }
 },
 "nbformat": 4,
 "nbformat_minor": 5
}
